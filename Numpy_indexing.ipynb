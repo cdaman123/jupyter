{
 "cells": [
  {
   "cell_type": "markdown",
   "metadata": {},
   "source": [
    "# <div align=\"center\"> Numpy : Advance Indexing </div>\n",
    "\n",
    "In this notebook we are talking about different ways of indexing array in numpy which are amazing.\n",
    "\n",
    "## Basic Slicing and Indexing\n",
    "\n",
    "So here from basic slicing and indexing we are talking about pythons basic concept of slicing and indexing which is similar as python built-in data type `tuple`, `list` and `str`.\n",
    "\n",
    "for accessing a single element from numpy array we can do it by passing passing each dimension’s index saperated by `,` in `[ ]`, because numpy support multi-dimension indexing.\n",
    "for example:  `a[1,2] = a[1][2] `.\n",
    "we can pass value of index either positive start with 0 (which is the first element) or negative where -1 mean the last element of the array.\n",
    "\n",
    "For accessing more then one element , we can use python's standers slicing syntex per dimension basis all sapetared with `,` in square bracket.\n",
    "\n",
    ">Basic slice syntex in `i:j:k` where i is starting index, j is stoping index and k is the steps."
   ]
  },
  {
   "cell_type": "code",
   "execution_count": null,
   "metadata": {},
   "outputs": [],
   "source": [
    "import numpy as np"
   ]
  },
  {
   "cell_type": "code",
   "execution_count": null,
   "metadata": {},
   "outputs": [],
   "source": [
    "## Accessing a single element:\n",
    "# 1. from 1-D array:\n",
    "\n",
    "arr = np.arange(10)\n",
    "\n",
    "arr[0]"
   ]
  },
  {
   "cell_type": "code",
   "execution_count": null,
   "metadata": {},
   "outputs": [],
   "source": [
    "arr[-2]"
   ]
  },
  {
   "cell_type": "code",
   "execution_count": null,
   "metadata": {},
   "outputs": [],
   "source": [
    "#2. from 2-D array:\n",
    "\n",
    "nd_arr = np.array([[1,2,3],\n",
    "                  [4,5,6],\n",
    "                  [7,8,9]])\n",
    "\n",
    "nd_arr[1,2]"
   ]
  },
  {
   "cell_type": "code",
   "execution_count": null,
   "metadata": {},
   "outputs": [],
   "source": [
    "nd_arr[-1,2]"
   ]
  },
  {
   "cell_type": "code",
   "execution_count": null,
   "metadata": {},
   "outputs": [],
   "source": [
    "## accessing more then one element:\n",
    "# for 1-D array:\n",
    "\n",
    "arr[1:5:2]"
   ]
  },
  {
   "cell_type": "code",
   "execution_count": null,
   "metadata": {},
   "outputs": [],
   "source": [
    "# for 2-D array:\n",
    "\n",
    "nd_arr[0:2:1,:]"
   ]
  },
  {
   "cell_type": "code",
   "execution_count": null,
   "metadata": {},
   "outputs": [],
   "source": [
    "#this can also be achieved by '...':\n",
    "nd_arr[0:2:1,...]"
   ]
  },
  {
   "cell_type": "markdown",
   "metadata": {},
   "source": [
    "`Ellipsis ('...')` expands to the number of `:` objects needed for the selection tuple to index all dimensions. In most cases, this means that length of the expanded selection tuple is `arr.ndim`. There may only be a single ellipsis present.\n",
    "\n",
    "> `Ellipsis` is a python built-in Constant type which used mostly in conjunction with extended slicing syntax for user-defined container data types. "
   ]
  },
  {
   "cell_type": "markdown",
   "metadata": {},
   "source": [
    "## Advance Indexing in Numpy array\n",
    "\n",
    "advance indexing mean when the selection object is non-tuple object , an ndarray of int or bool , or tuple with al least one sequence object with int or bool data types.\n",
    "There are two types of advance indexing, one is integer and another is boolean.\n",
    "\n",
    "> In numpy, `Advanced Indexing` always returns a copy of data while `basic slicing` returns a view.\n",
    "\n",
    "\n",
    ">One most important thing is that The definition of advanced indexing means that `x[(1,2,3),]` is fundamentally different than `x[(1,2,3)]`. The latter is equivalent to `x[1,2,3]` which will trigger basic selection while the former will trigger advanced indexing. Be sure to understand why this occurs.\n",
    "\n",
    ">Also recognize that `x[[1,2,3]]` will trigger advanced indexing\n",
    "\n",
    "\n",
    "\n",
    "### Integer  array Indexing\n",
    "\n",
    "Integer array indexing allows selection of arbitrary items in the array based on their N-dimensional index. Each integer array represents a number of indexes into that dimension.\n",
    "\n",
    "#### Purely integer array indexing\n",
    "\n",
    "When the index consists of as many integer arrays as the array being indexed has dimensions, the indexing is straight forward, but different from slicing."
   ]
  },
  {
   "cell_type": "code",
   "execution_count": null,
   "metadata": {},
   "outputs": [],
   "source": [
    "#Example:\n",
    "x = np.array([[1, 2], [3, 4], [5, 6]])\n",
    "x[[0, 1, 2], [0, 1, 0]]"
   ]
  },
  {
   "cell_type": "code",
   "execution_count": null,
   "metadata": {},
   "outputs": [],
   "source": [
    "#Example\n",
    "x = np.array([[ 0,  1,  2],\n",
    "              [ 3,  4,  5],\n",
    "              [ 6,  7,  8],\n",
    "              [ 9, 10, 11]])\n",
    "rows = np.array([[0, 0],\n",
    "                 [3, 3]], dtype=np.intp)\n",
    "columns = np.array([[0, 2],\n",
    "                    [0, 2]], dtype=np.intp)\n",
    "x[rows, columns]"
   ]
  },
  {
   "cell_type": "markdown",
   "metadata": {},
   "source": [
    "> Advance Indexes always broadcasted and iterated as one. The result we get is similar dimention of broadcasted result.\n",
    "\n",
    "in above example we broadcast in rows and column but in nympy there are one function `ix_` which help this broadcasting."
   ]
  },
  {
   "cell_type": "code",
   "execution_count": null,
   "metadata": {},
   "outputs": [],
   "source": [
    "#Example\n",
    "x = np.array([[ 0,  1,  2],\n",
    "              [ 3,  4,  5],\n",
    "              [ 6,  7,  8],\n",
    "              [ 9, 10, 11]])\n",
    "\n",
    "rows = np.array([0, 3], dtype=np.intp)\n",
    "columns = np.array([0, 2], dtype=np.intp)\n",
    "\n",
    "x[np.ix_(rows, columns)]"
   ]
  },
  {
   "cell_type": "code",
   "execution_count": null,
   "metadata": {},
   "outputs": [],
   "source": [
    "# if we don't use `np.ix_` then result:\n",
    "x[rows, columns]"
   ]
  },
  {
   "cell_type": "markdown",
   "metadata": {},
   "source": [
    "#### Combining advanced and basic indexing\n",
    "\n",
    "When there is at least one `slice (:)`, `ellipsis (...)` or `newaxis` in the index (or the array has more dimensions than there are advanced indexes), then the behaviour can be more complicated. It is like concatenating the indexing result for each advanced index element"
   ]
  },
  {
   "cell_type": "code",
   "execution_count": null,
   "metadata": {},
   "outputs": [],
   "source": [
    "x[1:2,1:3]"
   ]
  },
  {
   "cell_type": "code",
   "execution_count": null,
   "metadata": {},
   "outputs": [],
   "source": [
    "x[1:2,[1,2]]"
   ]
  },
  {
   "cell_type": "markdown",
   "metadata": {},
   "source": [
    "### Boolean array Indexing\n",
    "\n",
    "This types of indexing occurs when the selection object is the array of Boolean, such as returned from comparison operator.\n",
    "\n",
    "if the dimension of selection onject is same as the array then it returns a 1-D array filled with all result corresponding to the `True` value . The search order will be `row-major` , *C-style* . \n",
    "\n",
    ">If obj has `True` values at entries that are outside of the bounds of `x`, then an `index error` will be raised. If `obj` is smaller than `x` it is identical to filling it with `False`."
   ]
  },
  {
   "cell_type": "code",
   "execution_count": null,
   "metadata": {},
   "outputs": [],
   "source": [
    "#Example:\n",
    "x = np.array([[1., 2.], [np.nan, 3.], [np.nan, np.nan]])\n",
    "x[~np.isnan(x)]"
   ]
  },
  {
   "cell_type": "code",
   "execution_count": null,
   "metadata": {},
   "outputs": [],
   "source": [
    "#Example:\n",
    "x = np.array([1., -1., -2., 3])\n",
    "x[x < 0] += 20\n",
    "x"
   ]
  },
  {
   "cell_type": "code",
   "execution_count": null,
   "metadata": {},
   "outputs": [],
   "source": [
    "#Example : use with basic indexing\n",
    "x = np.array([[0, 1], [1, 1], [2, 2]])\n",
    "rowsum = x.sum(-1)\n",
    "x[rowsum <= 2, :]"
   ]
  },
  {
   "cell_type": "code",
   "execution_count": null,
   "metadata": {},
   "outputs": [],
   "source": [
    "#Example : use with np.ix_\n",
    "x = np.array([[ 0,  1,  2],\n",
    "              [ 3,  4,  5],\n",
    "              [ 6,  7,  8],\n",
    "              [ 9, 10, 11]])\n",
    "rows = (x.sum(-1) % 2) == 0\n",
    "columns = [0, 2]\n",
    "\n",
    "x[np.ix_(rows, columns)]\n"
   ]
  },
  {
   "cell_type": "markdown",
   "metadata": {},
   "source": [
    "# Something More intresting then above:\n",
    "\n",
    "## Field Access:\n",
    "\n",
    "If the ndarray object is a structured array the fields of the array can be accessed by indexing the array with strings, dictionary-like.\n",
    "\n",
    "\n",
    "Indexing `x['field-name']` returns a new view to the array.\n",
    "\n",
    "If the accessed field is a sub-array, the dimensions of the sub-array are appended to the shape of the result."
   ]
  },
  {
   "cell_type": "code",
   "execution_count": null,
   "metadata": {},
   "outputs": [],
   "source": [
    "x = np.zeros((2,2), dtype=[('a', np.int32), ('b', np.float64, (3,3))])\n",
    "\n",
    "x['a']"
   ]
  },
  {
   "cell_type": "code",
   "execution_count": null,
   "metadata": {},
   "outputs": [],
   "source": [
    "x['b']"
   ]
  },
  {
   "cell_type": "markdown",
   "metadata": {},
   "source": [
    "### Flat Iterator indexing\n",
    "\n",
    "`x.flat` returns an iterator that will iterate over the entire array (in C-contiguous style with the last index varying the fastest). This iterator object can also be indexed using basic slicing or advanced indexing as long as the selection object is not a tuple. This should be clear from the fact that x.flat is a 1-dimensional view. It can be used for integer indexing with 1-dimensional `C-style-flat indices`. The shape of any returned array is therefore the shape of the integer indexing object."
   ]
  },
  {
   "cell_type": "code",
   "execution_count": null,
   "metadata": {},
   "outputs": [],
   "source": [
    "x = np.arange(1, 7).reshape(2, 3)\n",
    "x"
   ]
  },
  {
   "cell_type": "code",
   "execution_count": null,
   "metadata": {},
   "outputs": [],
   "source": [
    "x.flat[3]"
   ]
  },
  {
   "cell_type": "code",
   "execution_count": null,
   "metadata": {},
   "outputs": [],
   "source": [
    "x.T"
   ]
  },
  {
   "cell_type": "code",
   "execution_count": null,
   "metadata": {},
   "outputs": [],
   "source": [
    "x.T.flat[3]"
   ]
  },
  {
   "cell_type": "code",
   "execution_count": null,
   "metadata": {},
   "outputs": [],
   "source": [
    "type(x.flat)"
   ]
  },
  {
   "cell_type": "code",
   "execution_count": null,
   "metadata": {},
   "outputs": [],
   "source": [
    "#assignment example\n",
    "x.flat = 3\n",
    "x"
   ]
  },
  {
   "cell_type": "code",
   "execution_count": null,
   "metadata": {},
   "outputs": [],
   "source": [
    "#assignment example\n",
    "\n",
    "x.flat[[1,4]] = 1\n",
    "x"
   ]
  },
  {
   "cell_type": "markdown",
   "metadata": {},
   "source": [
    "<p align=\"center\">\n",
    "<img src=\"https://encrypted-tbn0.gstatic.com/images?q=tbn:ANd9GcQBk7RSi8Ro0TREAQFNbAeyGbHIqZHWUMqieg&usqp=CAU\">\n",
    "</p>"
   ]
  }
 ],
 "metadata": {
  "kernelspec": {
   "display_name": "Python 3",
   "language": "python",
   "name": "python3"
  },
  "language_info": {
   "codemirror_mode": {
    "name": "ipython",
    "version": 3
   },
   "file_extension": ".py",
   "mimetype": "text/x-python",
   "name": "python",
   "nbconvert_exporter": "python",
   "pygments_lexer": "ipython3",
   "version": "3.8.3"
  }
 },
 "nbformat": 4,
 "nbformat_minor": 4
}
